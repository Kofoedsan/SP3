{
 "cells": [
  {
   "cell_type": "code",
   "execution_count": 1,
   "id": "35a7930a",
   "metadata": {},
   "outputs": [
    {
     "name": "stdout",
     "output_type": "stream",
     "text": [
      "OK\n"
     ]
    }
   ],
   "source": [
    "import tensorflow as tf\n",
    "from tensorflow import keras\n",
    "from keras.models import Sequential\n",
    "from keras.layers import Dense, Flatten, Conv2D, MaxPooling2D, Dropout\n",
    "from tensorflow.keras import layers\n",
    "from tensorflow.keras.utils import to_categorical\n",
    "import numpy as np\n",
    "import matplotlib.pyplot as plt\n",
    "from keras.datasets import cifar10\n",
    "from PIL import Image\n",
    "import requests\n",
    "from skimage.transform import resize\n",
    "plt.style.use('fivethirtyeight')\n",
    "import os\n",
    "os.environ['KMP_DUPLICATE_LIB_OK']='True'\n",
    "print(\"OK\")\n"
   ]
  },
  {
   "cell_type": "code",
   "execution_count": 2,
   "id": "cc505de1",
   "metadata": {},
   "outputs": [],
   "source": [
    "(x_train, y_train),(x_test, y_test) = cifar10.load_data()"
   ]
  },
  {
   "cell_type": "code",
   "execution_count": 3,
   "id": "18eaef4b",
   "metadata": {},
   "outputs": [
    {
     "data": {
      "text/plain": [
       "array([[[53, 65, 53],\n",
       "        [54, 63, 52],\n",
       "        [56, 60, 50],\n",
       "        ...,\n",
       "        [47, 51, 50],\n",
       "        [41, 45, 44],\n",
       "        [24, 28, 27]],\n",
       "\n",
       "       [[46, 59, 41],\n",
       "        [53, 62, 45],\n",
       "        [54, 59, 44],\n",
       "        ...,\n",
       "        [42, 46, 45],\n",
       "        [39, 43, 42],\n",
       "        [28, 32, 31]],\n",
       "\n",
       "       [[45, 59, 38],\n",
       "        [50, 60, 41],\n",
       "        [46, 52, 34],\n",
       "        ...,\n",
       "        [38, 42, 41],\n",
       "        [36, 40, 39],\n",
       "        [29, 33, 32]],\n",
       "\n",
       "       ...,\n",
       "\n",
       "       [[71, 83, 66],\n",
       "        [74, 83, 66],\n",
       "        [80, 85, 67],\n",
       "        ...,\n",
       "        [51, 54, 33],\n",
       "        [46, 49, 34],\n",
       "        [49, 50, 41]],\n",
       "\n",
       "       [[75, 82, 67],\n",
       "        [79, 85, 69],\n",
       "        [81, 85, 67],\n",
       "        ...,\n",
       "        [61, 65, 41],\n",
       "        [64, 67, 48],\n",
       "        [48, 50, 41]],\n",
       "\n",
       "       [[85, 83, 71],\n",
       "        [85, 84, 71],\n",
       "        [86, 86, 70],\n",
       "        ...,\n",
       "        [61, 65, 39],\n",
       "        [64, 67, 46],\n",
       "        [49, 50, 41]]], dtype=uint8)"
      ]
     },
     "execution_count": 3,
     "metadata": {},
     "output_type": "execute_result"
    }
   ],
   "source": [
    "index = 10\n",
    "x_train[index]"
   ]
  },
  {
   "cell_type": "code",
   "execution_count": 4,
   "id": "a9b6f5c8",
   "metadata": {},
   "outputs": [
    {
     "data": {
      "image/png": "[encoded data removed]",
      "text/plain": [
       "<Figure size 432x288 with 1 Axes>"
      ]
     },
     "metadata": {},
     "output_type": "display_data"
    }
   ],
   "source": [
    "img = plt.imshow(x_train[index])"
   ]
  },
  {
   "cell_type": "code",
   "execution_count": 5,
   "id": "0fe10763",
   "metadata": {},
   "outputs": [
    {
     "name": "stdout",
     "output_type": "stream",
     "text": [
      "deer\n"
     ]
    }
   ],
   "source": [
    "classification = ['airplane','automobile','bird','cat','deer','dog','frog','horse','ship','truck']\n",
    "# print img class\n",
    "print(classification[y_train[index][0]])"
   ]
  },
  {
   "cell_type": "code",
   "execution_count": 6,
   "id": "c031b3d8",
   "metadata": {},
   "outputs": [],
   "source": [
    "y_train_one_hot = to_categorical(y_train)\n",
    "y_test_one_hot = to_categorical(y_test)"
   ]
  },
  {
   "cell_type": "code",
   "execution_count": 7,
   "id": "be5cb10d",
   "metadata": {},
   "outputs": [],
   "source": [
    "x_train = x_train / 255\n",
    "x_test = x_test / 255"
   ]
  },
  {
   "cell_type": "code",
   "execution_count": 8,
   "id": "af5cdcdd",
   "metadata": {},
   "outputs": [],
   "source": [
    "model = Sequential()\n",
    "\n",
    "model.add( Conv2D(32, (5,5), activation='relu',input_shape=(32,32,3)) )\n",
    "\n",
    "model.add(MaxPooling2D(pool_size=(2,2)))\n",
    "\n",
    "model.add( Conv2D(32, (5,5), activation='relu') )\n",
    "\n",
    "model.add(MaxPooling2D(pool_size=(2,2)))\n",
    "\n",
    "model.add(Flatten())\n",
    "\n",
    "\n",
    "#NEURONs\n",
    "\n",
    "model.add(Dense(1000,activation='relu'))\n",
    "\n",
    "model.add(Dropout(0.50))\n",
    "\n",
    "model.add(Dense(500,activation='relu'))\n",
    "\n",
    "model.add(Dropout(0.50))\n",
    "\n",
    "model.add(Dense(250,activation='relu'))\n",
    "\n",
    "model.add(Dense(10,activation='softmax'))"
   ]
  },
  {
   "cell_type": "code",
   "execution_count": 9,
   "id": "1d3c320b",
   "metadata": {},
   "outputs": [],
   "source": [
    "model.compile(loss = 'categorical_crossentropy', optimizer = 'adam', metrics = ['accuracy'])"
   ]
  },
  {
   "cell_type": "code",
   "execution_count": 10,
   "id": "eebe08ae",
   "metadata": {},
   "outputs": [
    {
     "name": "stdout",
     "output_type": "stream",
     "text": [
      "Epoch 1/10\n",
      "157/157 [==============================] - 11s 68ms/step - loss: 1.8124 - accuracy: 0.3213 - val_loss: 1.5335 - val_accuracy: 0.4407\n",
      "Epoch 2/10\n",
      "157/157 [==============================] - 10s 64ms/step - loss: 1.4566 - accuracy: 0.4637 - val_loss: 1.3045 - val_accuracy: 0.5308\n",
      "Epoch 3/10\n",
      "157/157 [==============================] - 10s 66ms/step - loss: 1.2995 - accuracy: 0.5291 - val_loss: 1.2083 - val_accuracy: 0.5675\n",
      "Epoch 4/10\n",
      "157/157 [==============================] - 13s 81ms/step - loss: 1.1836 - accuracy: 0.5776 - val_loss: 1.1179 - val_accuracy: 0.6095\n",
      "Epoch 5/10\n",
      "157/157 [==============================] - 10s 66ms/step - loss: 1.0953 - accuracy: 0.6106 - val_loss: 1.0992 - val_accuracy: 0.6117\n",
      "Epoch 6/10\n",
      "157/157 [==============================] - 11s 68ms/step - loss: 1.0188 - accuracy: 0.6400 - val_loss: 1.0111 - val_accuracy: 0.6409\n",
      "Epoch 7/10\n",
      "157/157 [==============================] - 12s 73ms/step - loss: 0.9615 - accuracy: 0.6612 - val_loss: 0.9842 - val_accuracy: 0.6536\n",
      "Epoch 8/10\n",
      "157/157 [==============================] - 10s 62ms/step - loss: 0.9072 - accuracy: 0.6795 - val_loss: 0.9507 - val_accuracy: 0.6692\n",
      "Epoch 9/10\n",
      "157/157 [==============================] - 10s 61ms/step - loss: 0.8445 - accuracy: 0.6998 - val_loss: 0.9192 - val_accuracy: 0.6771\n",
      "Epoch 10/10\n",
      "157/157 [==============================] - 10s 61ms/step - loss: 0.7947 - accuracy: 0.7191 - val_loss: 0.9864 - val_accuracy: 0.6579\n"
     ]
    }
   ],
   "source": [
    "hist = model.fit(x_train, y_train_one_hot, batch_size = 256, epochs = 10, validation_split = 0.2)"
   ]
  },
  {
   "cell_type": "code",
   "execution_count": 11,
   "id": "df969da5",
   "metadata": {},
   "outputs": [
    {
     "name": "stdout",
     "output_type": "stream",
     "text": [
      "313/313 [==============================] - 1s 4ms/step - loss: 1.0079 - accuracy: 0.6569\n"
     ]
    },
    {
     "data": {
      "text/plain": [
       "0.6568999886512756"
      ]
     },
     "execution_count": 11,
     "metadata": {},
     "output_type": "execute_result"
    }
   ],
   "source": [
    "#Evaluatate with testdata\n",
    "\n",
    "model.evaluate(x_test,y_test_one_hot)[1]"
   ]
  },
  {
   "cell_type": "code",
   "execution_count": 12,
   "id": "3d4491ae",
   "metadata": {},
   "outputs": [
    {
     "data": {
      "image/png": "[encoded data removed]",
      "text/plain": [
       "<Figure size 432x288 with 1 Axes>"
      ]
     },
     "metadata": {},
     "output_type": "display_data"
    }
   ],
   "source": [
    "#Visualize\n",
    "\n",
    "plt.plot(hist.history['accuracy'])\n",
    "plt.plot(hist.history['val_accuracy'])\n",
    "plt.title('Model accuracy')\n",
    "plt.ylabel('Accurary')\n",
    "plt.xlabel('Epoch')\n",
    "plt.legend(['Train','Val'], loc = 'upper left')\n",
    "plt.show()"
   ]
  },
  {
   "cell_type": "code",
   "execution_count": 13,
   "id": "d6c4e884",
   "metadata": {},
   "outputs": [
    {
     "data": {
      "image/png": "[encoded data removed]",
      "text/plain": [
       "<Figure size 432x288 with 1 Axes>"
      ]
     },
     "metadata": {},
     "output_type": "display_data"
    }
   ],
   "source": [
    "plt.plot(hist.history['loss'])\n",
    "plt.plot(hist.history['val_loss'])\n",
    "plt.title('Model loss')\n",
    "plt.ylabel('loss')\n",
    "plt.xlabel('Epoch')\n",
    "plt.legend(['Train','Val'], loc = 'upper right')\n",
    "plt.show()"
   ]
  },
  {
   "cell_type": "code",
   "execution_count": 14,
   "id": "7276d039",
   "metadata": {
    "scrolled": true
   },
   "outputs": [],
   "source": [
    "#Frog picture to predict\n",
    "\n",
    "frogurl = 'https://d.newsweek.com/en/full/1277863/554282qcaz-2018-04-24-47423.jpg'\n",
    "frogimg = Image.open(requests.get(frogurl, stream = True).raw)\n",
    "frogimg.save('frog.jpg')\n",
    "\n",
    "new_frog = plt.imread('frog.jpg')\n",
    "resized_frog = resize(new_frog, (32,32,3))\n",
    "#img = plt.imshow(resized_frog)"
   ]
  },
  {
   "cell_type": "code",
   "execution_count": 38,
   "id": "c09d60ad",
   "metadata": {},
   "outputs": [],
   "source": [
    "#Car picture to predict\n",
    "\n",
    "carurl = 'https://cdn.motor1.com/images/mgl/lwwZW/s1/2021-mustang-mach-e-live-image.jpg'\n",
    "carimg = Image.open(requests.get(carurl, stream = True).raw)\n",
    "carimg.save('car.png')\n",
    "\n",
    "new_car = plt.imread('car.png')\n",
    "resized_car = resize(new_car, (32,32,3))\n",
    "#img = plt.imshow(resized_frog)"
   ]
  },
  {
   "cell_type": "code",
   "execution_count": 39,
   "id": "d9119785",
   "metadata": {},
   "outputs": [],
   "source": [
    "#Ship picture to predict\n",
    "\n",
    "shipurl = 'https://img.nauticexpo.com/images_ne/photo-g/24760-4722085.jpg'\n",
    "shipimg = Image.open(requests.get(shipurl, stream = True).raw)\n",
    "shipimg.save('ship.jpg')\n",
    "\n",
    "new_ship = plt.imread('ship.jpg')\n",
    "resized_ship = resize(new_ship, (32,32,3))\n",
    "#img = plt.imshow(resized_frog)"
   ]
  },
  {
   "cell_type": "code",
   "execution_count": 40,
   "id": "97f26fb9",
   "metadata": {},
   "outputs": [],
   "source": [
    "predictfrog = model.predict(np.array([resized_frog]))\n",
    "\n",
    "predictcar = model.predict(np.array([resized_car]))\n",
    "\n",
    "predictship = model.predict(np.array([resized_ship]))\n"
   ]
  },
  {
   "cell_type": "code",
   "execution_count": 41,
   "id": "7f7a51fd",
   "metadata": {},
   "outputs": [],
   "source": [
    "listedIndexFrog = [0,1,2,3,4,5,6,7,8,9]\n",
    "listedIndexCar = [0,1,2,3,4,5,6,7,8,9]\n",
    "listedIndexShip = [0,1,2,3,4,5,6,7,8,9]\n",
    "\n",
    "x = predictfrog\n",
    "for i in range(10):\n",
    "    for j in range(10):\n",
    "        if x[0][listedIndexFrog[i]] > x[0][listedIndexFrog][j]:\n",
    "            tmp = listedIndexFrog[i]\n",
    "            listedIndexFrog[i] = listedIndexFrog[j]\n",
    "            listedIndexFrog[j] = tmp\n",
    "\n",
    "x1 = predictcar\n",
    "for i in range(10):\n",
    "    for j in range(10):\n",
    "        if x1[0][listedIndexCar[i]] > x1[0][listedIndexCar][j]:\n",
    "            tmp = listedIndexCar[i]\n",
    "            listedIndexCar[i] = listedIndexCar[j]\n",
    "            listedIndexCar[j] = tmp\n",
    "\n",
    "x2 = predictship\n",
    "for i in range(10):\n",
    "    for j in range(10):\n",
    "        if x2[0][listedIndexShip[i]] > x2[0][listedIndexShip][j]:\n",
    "            tmp = listedIndexShip[i]\n",
    "            listedIndexShip[i] = listedIndexShip[j]\n",
    "            listedIndexShip[j] = tmp\n"
   ]
  },
  {
   "cell_type": "code",
   "execution_count": 42,
   "id": "03eee3c7",
   "metadata": {},
   "outputs": [
    {
     "name": "stdout",
     "output_type": "stream",
     "text": [
      "Prediction for Frog:\n",
      "frog 90.49 %\n",
      "cat 7.39 %\n",
      "dog 1.31 %\n",
      "\n",
      "Prediction for Car:\n",
      "automobile 99.75 %\n",
      "truck 0.25 %\n",
      "airplane 0.0 %\n",
      "\n",
      "Prediction for Ship:\n",
      "ship 92.53 %\n",
      "airplane 4.82 %\n",
      "bird 1.14 %\n"
     ]
    }
   ],
   "source": [
    "print('Prediction for Frog:')\n",
    "for i in range(3):\n",
    "    print(classification[listedIndexFrog[i]], round(predictfrog[0][listedIndexFrog][i]*100,2),'%')\n",
    "    \n",
    "print()   \n",
    "print('Prediction for Car:')\n",
    "for i in range(3):\n",
    "    print(classification[listedIndexCar[i]], round(predictcar[0][listedIndexCar][i]*100,2),'%')\n",
    "\n",
    "print()   \n",
    "print('Prediction for Ship:')\n",
    "for i in range(3):\n",
    "    print(classification[listedIndexShip[i]], round(predictship[0][listedIndexShip][i]*100,2),'%')\n"
   ]
  },
  {
   "cell_type": "code",
   "execution_count": null,
   "id": "3a5af4a3",
   "metadata": {},
   "outputs": [],
   "source": []
  }
 ],
 "metadata": {
  "kernelspec": {
   "display_name": "Python 3 (ipykernel)",
   "language": "python",
   "name": "python3"
  },
  "language_info": {
   "codemirror_mode": {
    "name": "ipython",
    "version": 3
   },
   "file_extension": ".py",
   "mimetype": "text/x-python",
   "name": "python",
   "nbconvert_exporter": "python",
   "pygments_lexer": "ipython3",
   "version": "3.9.7"
  }
 },
 "nbformat": 4,
 "nbformat_minor": 5
}
